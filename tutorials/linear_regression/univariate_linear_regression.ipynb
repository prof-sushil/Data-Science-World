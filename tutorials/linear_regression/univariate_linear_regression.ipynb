{
 "cells": [
  {
   "cell_type": "markdown",
   "metadata": {},
   "source": [
    "# Univariate Linear Regression"
   ]
  },
  {
   "cell_type": "code",
   "execution_count": 1,
   "metadata": {},
   "outputs": [],
   "source": [
    "# Import necessary libraries\n",
    "import numpy as np\n",
    "import pandas as pd\n",
    "import matplotlib.pyplot as plt\n",
    "import seaborn as sns"
   ]
  },
  {
   "cell_type": "code",
   "execution_count": 2,
   "metadata": {},
   "outputs": [],
   "source": [
    "class UnivariateLinearRegressor:\n",
    "    def __init__(self, learning_rate=0.01, n_iters=1000):\n",
    "        self.learning_rate = learning_rate\n",
    "        self.n_iters = n_iters\n",
    "        self.theta = None\n",
    "        self.MSE_loss_history = []\n",
    "        self.theta_history = []\n",
    "        \n",
    "    def MSE_loss(self, y_pred, y):\n",
    "        m = y.shape[0]\n",
    "        loss = (1 / (2 * m)) * np.sum((y_pred - y)**2)\n",
    "        return loss\n",
    "    \n",
    "    def gradient_descent(self, X, y, y_pred, theta):\n",
    "        m = y.shape[0]\n",
    "        # Compute gradients first\n",
    "        gradient_0 = np.sum(y_pred - y) / m\n",
    "        gradient_1 = np.sum(np.dot((y_pred - y).T, X[:, 1])) / m\n",
    "\n",
    "        # Update parameters\n",
    "        theta[0] = theta[0] - self.learning_rate * gradient_0\n",
    "        theta[1] = theta[1] - self.learning_rate * gradient_1\n",
    "        \n",
    "        return theta\n",
    "    \n",
    "    def fit(self, X: np.ndarray, y:np.ndarray) -> np.ndarray:\n",
    "        \"\"\"\n",
    "        Reshape the input X and train the model\n",
    "\n",
    "        Args:\n",
    "            X (np.ndarray): Input feature matrix of dimension (n_samples, n_features)\n",
    "            y (np.ndarray): Label matrix of dimension (n_samples, 1)\n",
    "\n",
    "        Returns:\n",
    "            np.ndarray: Parameter: theta matrix of dimension (n_features+1, 1)\n",
    "        \"\"\"\n",
    "        # Add new dimension to X\n",
    "        new_dimension = np.ones((X.shape[0], 1))\n",
    "        X = np.hstack((new_dimension, X))\n",
    "\n",
    "        # Initialize theta\n",
    "        self.theta = np.zeros((X.shape[1], 1))\n",
    "        \n",
    "        # Training loop\n",
    "        for i in range(self.n_iters):\n",
    "            y_pred = np.dot(X, self.theta)\n",
    "            # compute loss\n",
    "            loss = self.MSE_loss(y_pred, y)\n",
    "            self.MSE_loss_history.append(loss)\n",
    "            self.theta_history.append(self.theta)\n",
    "            \n",
    "            \n",
    "            if i % 100 == 0:\n",
    "                print(f\"Iteration {i}: MSE Loss = {loss}\")\n",
    "            \n",
    "            # use gradient descent\n",
    "            self.theta = self.gradient_descent(X, y, y_pred, self.theta)\n",
    "        \n",
    "        return self.theta\n",
    "    \n",
    "    def predict(self, X: np.ndarray, theta: np.ndarray) -> np.ndarray:\n",
    "        # This function assumes that X has been normalized\n",
    "        new_dimension = np.ones((X.shape[0], 1))\n",
    "        X = np.hstack((new_dimension, X))\n",
    "        predictions = np.dot(X, theta)\n",
    "        \n",
    "        return predictions"
   ]
  },
  {
   "cell_type": "code",
   "execution_count": 3,
   "metadata": {},
   "outputs": [
    {
     "data": {
      "text/html": [
       "<div>\n",
       "<style scoped>\n",
       "    .dataframe tbody tr th:only-of-type {\n",
       "        vertical-align: middle;\n",
       "    }\n",
       "\n",
       "    .dataframe tbody tr th {\n",
       "        vertical-align: top;\n",
       "    }\n",
       "\n",
       "    .dataframe thead th {\n",
       "        text-align: right;\n",
       "    }\n",
       "</style>\n",
       "<table border=\"1\" class=\"dataframe\">\n",
       "  <thead>\n",
       "    <tr style=\"text-align: right;\">\n",
       "      <th></th>\n",
       "      <th>X</th>\n",
       "      <th>y</th>\n",
       "    </tr>\n",
       "  </thead>\n",
       "  <tbody>\n",
       "    <tr>\n",
       "      <th>0</th>\n",
       "      <td>0</td>\n",
       "      <td>5.0</td>\n",
       "    </tr>\n",
       "    <tr>\n",
       "      <th>1</th>\n",
       "      <td>1</td>\n",
       "      <td>5.5</td>\n",
       "    </tr>\n",
       "    <tr>\n",
       "      <th>2</th>\n",
       "      <td>2</td>\n",
       "      <td>6.0</td>\n",
       "    </tr>\n",
       "    <tr>\n",
       "      <th>3</th>\n",
       "      <td>3</td>\n",
       "      <td>6.5</td>\n",
       "    </tr>\n",
       "    <tr>\n",
       "      <th>4</th>\n",
       "      <td>4</td>\n",
       "      <td>7.0</td>\n",
       "    </tr>\n",
       "  </tbody>\n",
       "</table>\n",
       "</div>"
      ],
      "text/plain": [
       "   X    y\n",
       "0  0  5.0\n",
       "1  1  5.5\n",
       "2  2  6.0\n",
       "3  3  6.5\n",
       "4  4  7.0"
      ]
     },
     "execution_count": 3,
     "metadata": {},
     "output_type": "execute_result"
    }
   ],
   "source": [
    "# Preparing dummy linear data following the equation y = 5 + 0.5x\n",
    "X = [x for x in range(100)]\n",
    "y = [5+0.5*i for i in X]\n",
    "\n",
    "df = pd.DataFrame({\"X\": X, \"y\": y})\n",
    "df.head()\n",
    "# This dataframe can be saved to csv and read in future\n",
    "# df.to_csv(\"linear_univairate_data.csv\", index=False)"
   ]
  },
  {
   "cell_type": "code",
   "execution_count": 4,
   "metadata": {},
   "outputs": [],
   "source": [
    "X = df[\"X\"].values\n",
    "y = df[\"y\"].values"
   ]
  },
  {
   "cell_type": "code",
   "execution_count": 5,
   "metadata": {},
   "outputs": [
    {
     "name": "stdout",
     "output_type": "stream",
     "text": [
      "Shape of X:  (100,)\n",
      "Shape of y:  (100,)\n"
     ]
    }
   ],
   "source": [
    "print(\"Shape of X: \", X.shape)\n",
    "print(\"Shape of y: \", y.shape)"
   ]
  },
  {
   "cell_type": "code",
   "execution_count": 6,
   "metadata": {},
   "outputs": [
    {
     "name": "stdout",
     "output_type": "stream",
     "text": [
      "Shape of X:  (100, 1)\n",
      "Shape of y:  (100, 1)\n"
     ]
    }
   ],
   "source": [
    "# Reshaping X and y\n",
    "X = X.reshape(-1, 1)\n",
    "y = y.reshape(-1, 1)\n",
    "print(\"Shape of X: \", X.shape)\n",
    "print(\"Shape of y: \", y.shape)"
   ]
  },
  {
   "cell_type": "code",
   "execution_count": 7,
   "metadata": {},
   "outputs": [],
   "source": [
    "# Mean Normalization and Feature scaling\n",
    "X_mean = np.mean(X)\n",
    "X_std = np.std(X)\n",
    "X = (X - X_mean) / X_std\n",
    "\n",
    "\n",
    "y_mean = np.mean(y)\n",
    "y_std = np.std(y)\n",
    "y = (y - y_mean) / y_std\n"
   ]
  },
  {
   "cell_type": "code",
   "execution_count": 19,
   "metadata": {},
   "outputs": [
    {
     "name": "stdout",
     "output_type": "stream",
     "text": [
      "Iteration 0: MSE Loss = 0.5\n",
      "Iteration 100: MSE Loss = 0.06698983742898083\n",
      "Iteration 200: MSE Loss = 0.00897527663752258\n",
      "Iteration 300: MSE Loss = 0.0012025046456555352\n",
      "Iteration 400: MSE Loss = 0.00016111118144011477\n"
     ]
    }
   ],
   "source": [
    "myModel = UnivariateLinearRegressor(learning_rate=0.01, n_iters=500)\n",
    "theta = myModel.fit(X, y)"
   ]
  },
  {
   "cell_type": "code",
   "execution_count": 20,
   "metadata": {},
   "outputs": [
    {
     "data": {
      "image/png": "[encoded data removed]",
      "text/plain": [
       "<Figure size 500x300 with 1 Axes>"
      ]
     },
     "metadata": {},
     "output_type": "display_data"
    }
   ],
   "source": [
    "# Plotting Learning Curve\n",
    "loss_history = myModel.MSE_loss_history\n",
    "plt.figure(figsize=(5, 3))\n",
    "sns.lineplot(loss_history)\n",
    "plt.title(\"MSE Loss History\")\n",
    "plt.xlabel(\"#Iteration\")\n",
    "plt.ylabel(\"MSE Loss\")\n",
    "plt.show()"
   ]
  },
  {
   "cell_type": "code",
   "execution_count": 21,
   "metadata": {},
   "outputs": [
    {
     "data": {
      "image/png": "[encoded data removed]",
      "text/plain": [
       "<Figure size 500x300 with 1 Axes>"
      ]
     },
     "metadata": {},
     "output_type": "display_data"
    }
   ],
   "source": [
    "# Plotting predictions vs target\n",
    "predictions = myModel.predict(X, theta)\n",
    "plt.figure(figsize=(5, 3))\n",
    "sns.scatterplot(x=y[:, 0], y=predictions[:, 0])\n",
    "plt.title(\"Predictions vs Target\")\n",
    "plt.xlabel(\"Target\")\n",
    "plt.ylabel(\"Prediction\")\n",
    "plt.show()"
   ]
  },
  {
   "cell_type": "code",
   "execution_count": 11,
   "metadata": {},
   "outputs": [
    {
     "data": {
      "image/png": "[encoded data removed]",
      "text/plain": [
       "<Figure size 500x300 with 1 Axes>"
      ]
     },
     "metadata": {},
     "output_type": "display_data"
    }
   ],
   "source": [
    "# Original Data Distribution \n",
    "plt.figure(figsize=(5, 3))\n",
    "sns.scatterplot(x=X[:, 0], y=y[:, 0])\n",
    "plt.title(\"Original Data Distribution\")\n",
    "plt.xlabel(\"X\")\n",
    "plt.ylabel(\"y\")\n",
    "plt.show()"
   ]
  },
  {
   "cell_type": "code",
   "execution_count": null,
   "metadata": {},
   "outputs": [],
   "source": []
  }
 ],
 "metadata": {
  "kernelspec": {
   "display_name": "soccer-analytics",
   "language": "python",
   "name": "python3"
  },
  "language_info": {
   "codemirror_mode": {
    "name": "ipython",
    "version": 3
   },
   "file_extension": ".py",
   "mimetype": "text/x-python",
   "name": "python",
   "nbconvert_exporter": "python",
   "pygments_lexer": "ipython3",
   "version": "3.9.18"
  }
 },
 "nbformat": 4,
 "nbformat_minor": 2
}
