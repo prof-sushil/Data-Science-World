{
 "cells": [
  {
   "cell_type": "code",
   "execution_count": 128,
   "metadata": {},
   "outputs": [],
   "source": [
    "# cell 1\n",
    "from typing import List, Tuple\n",
    "import pandas as pd\n",
    "import numpy as np\n",
    "import matplotlib.pyplot as plt\n",
    "from sklearn.model_selection import train_test_split\n",
    "import seaborn as sns"
   ]
  },
  {
   "cell_type": "markdown",
   "metadata": {},
   "source": [
    "### **Loading the Housing Price Prediction Dataset**\n",
    "\n",
    "* Using housing price prediction dataset, we will be training the multivairate linear regression model to predict the price of house based on house features like area, number of bedrooms, number of stories etc."
   ]
  },
  {
   "cell_type": "markdown",
   "metadata": {},
   "source": [
    "**Load the dataset using pandas**"
   ]
  },
  {
   "cell_type": "code",
   "execution_count": 16,
   "metadata": {},
   "outputs": [
    {
     "data": {
      "text/html": [
       "<div>\n",
       "<style scoped>\n",
       "    .dataframe tbody tr th:only-of-type {\n",
       "        vertical-align: middle;\n",
       "    }\n",
       "\n",
       "    .dataframe tbody tr th {\n",
       "        vertical-align: top;\n",
       "    }\n",
       "\n",
       "    .dataframe thead th {\n",
       "        text-align: right;\n",
       "    }\n",
       "</style>\n",
       "<table border=\"1\" class=\"dataframe\">\n",
       "  <thead>\n",
       "    <tr style=\"text-align: right;\">\n",
       "      <th></th>\n",
       "      <th>price</th>\n",
       "      <th>area</th>\n",
       "      <th>bedrooms</th>\n",
       "      <th>bathrooms</th>\n",
       "      <th>stories</th>\n",
       "      <th>mainroad</th>\n",
       "      <th>guestroom</th>\n",
       "      <th>basement</th>\n",
       "      <th>hotwaterheating</th>\n",
       "      <th>airconditioning</th>\n",
       "      <th>parking</th>\n",
       "      <th>prefarea</th>\n",
       "      <th>furnishingstatus</th>\n",
       "    </tr>\n",
       "  </thead>\n",
       "  <tbody>\n",
       "    <tr>\n",
       "      <th>0</th>\n",
       "      <td>13300000</td>\n",
       "      <td>7420</td>\n",
       "      <td>4</td>\n",
       "      <td>2</td>\n",
       "      <td>3</td>\n",
       "      <td>yes</td>\n",
       "      <td>no</td>\n",
       "      <td>no</td>\n",
       "      <td>no</td>\n",
       "      <td>yes</td>\n",
       "      <td>2</td>\n",
       "      <td>yes</td>\n",
       "      <td>furnished</td>\n",
       "    </tr>\n",
       "    <tr>\n",
       "      <th>1</th>\n",
       "      <td>12250000</td>\n",
       "      <td>8960</td>\n",
       "      <td>4</td>\n",
       "      <td>4</td>\n",
       "      <td>4</td>\n",
       "      <td>yes</td>\n",
       "      <td>no</td>\n",
       "      <td>no</td>\n",
       "      <td>no</td>\n",
       "      <td>yes</td>\n",
       "      <td>3</td>\n",
       "      <td>no</td>\n",
       "      <td>furnished</td>\n",
       "    </tr>\n",
       "    <tr>\n",
       "      <th>2</th>\n",
       "      <td>12250000</td>\n",
       "      <td>9960</td>\n",
       "      <td>3</td>\n",
       "      <td>2</td>\n",
       "      <td>2</td>\n",
       "      <td>yes</td>\n",
       "      <td>no</td>\n",
       "      <td>yes</td>\n",
       "      <td>no</td>\n",
       "      <td>no</td>\n",
       "      <td>2</td>\n",
       "      <td>yes</td>\n",
       "      <td>semi-furnished</td>\n",
       "    </tr>\n",
       "    <tr>\n",
       "      <th>3</th>\n",
       "      <td>12215000</td>\n",
       "      <td>7500</td>\n",
       "      <td>4</td>\n",
       "      <td>2</td>\n",
       "      <td>2</td>\n",
       "      <td>yes</td>\n",
       "      <td>no</td>\n",
       "      <td>yes</td>\n",
       "      <td>no</td>\n",
       "      <td>yes</td>\n",
       "      <td>3</td>\n",
       "      <td>yes</td>\n",
       "      <td>furnished</td>\n",
       "    </tr>\n",
       "    <tr>\n",
       "      <th>4</th>\n",
       "      <td>11410000</td>\n",
       "      <td>7420</td>\n",
       "      <td>4</td>\n",
       "      <td>1</td>\n",
       "      <td>2</td>\n",
       "      <td>yes</td>\n",
       "      <td>yes</td>\n",
       "      <td>yes</td>\n",
       "      <td>no</td>\n",
       "      <td>yes</td>\n",
       "      <td>2</td>\n",
       "      <td>no</td>\n",
       "      <td>furnished</td>\n",
       "    </tr>\n",
       "  </tbody>\n",
       "</table>\n",
       "</div>"
      ],
      "text/plain": [
       "      price  area  bedrooms  bathrooms  stories mainroad guestroom basement  \\\n",
       "0  13300000  7420         4          2        3      yes        no       no   \n",
       "1  12250000  8960         4          4        4      yes        no       no   \n",
       "2  12250000  9960         3          2        2      yes        no      yes   \n",
       "3  12215000  7500         4          2        2      yes        no      yes   \n",
       "4  11410000  7420         4          1        2      yes       yes      yes   \n",
       "\n",
       "  hotwaterheating airconditioning  parking prefarea furnishingstatus  \n",
       "0              no             yes        2      yes        furnished  \n",
       "1              no             yes        3       no        furnished  \n",
       "2              no              no        2      yes   semi-furnished  \n",
       "3              no             yes        3      yes        furnished  \n",
       "4              no             yes        2       no        furnished  "
      ]
     },
     "execution_count": 16,
     "metadata": {},
     "output_type": "execute_result"
    }
   ],
   "source": [
    "# cell 2\n",
    "df = pd.read_csv(\"../data/housing_price_prediction.csv\")\n",
    "df.head()"
   ]
  },
  {
   "cell_type": "markdown",
   "metadata": {},
   "source": [
    "Here, we could see the dataset consists both numeric and categorical features."
   ]
  },
  {
   "cell_type": "markdown",
   "metadata": {},
   "source": [
    "**Study the data statistics**"
   ]
  },
  {
   "cell_type": "code",
   "execution_count": 17,
   "metadata": {},
   "outputs": [
    {
     "data": {
      "text/html": [
       "<div>\n",
       "<style scoped>\n",
       "    .dataframe tbody tr th:only-of-type {\n",
       "        vertical-align: middle;\n",
       "    }\n",
       "\n",
       "    .dataframe tbody tr th {\n",
       "        vertical-align: top;\n",
       "    }\n",
       "\n",
       "    .dataframe thead th {\n",
       "        text-align: right;\n",
       "    }\n",
       "</style>\n",
       "<table border=\"1\" class=\"dataframe\">\n",
       "  <thead>\n",
       "    <tr style=\"text-align: right;\">\n",
       "      <th></th>\n",
       "      <th>price</th>\n",
       "      <th>area</th>\n",
       "      <th>bedrooms</th>\n",
       "      <th>bathrooms</th>\n",
       "      <th>stories</th>\n",
       "      <th>parking</th>\n",
       "    </tr>\n",
       "  </thead>\n",
       "  <tbody>\n",
       "    <tr>\n",
       "      <th>count</th>\n",
       "      <td>5.450000e+02</td>\n",
       "      <td>545.000000</td>\n",
       "      <td>545.000000</td>\n",
       "      <td>545.000000</td>\n",
       "      <td>545.000000</td>\n",
       "      <td>545.000000</td>\n",
       "    </tr>\n",
       "    <tr>\n",
       "      <th>mean</th>\n",
       "      <td>4.766729e+06</td>\n",
       "      <td>5150.541284</td>\n",
       "      <td>2.965138</td>\n",
       "      <td>1.286239</td>\n",
       "      <td>1.805505</td>\n",
       "      <td>0.693578</td>\n",
       "    </tr>\n",
       "    <tr>\n",
       "      <th>std</th>\n",
       "      <td>1.870440e+06</td>\n",
       "      <td>2170.141023</td>\n",
       "      <td>0.738064</td>\n",
       "      <td>0.502470</td>\n",
       "      <td>0.867492</td>\n",
       "      <td>0.861586</td>\n",
       "    </tr>\n",
       "    <tr>\n",
       "      <th>min</th>\n",
       "      <td>1.750000e+06</td>\n",
       "      <td>1650.000000</td>\n",
       "      <td>1.000000</td>\n",
       "      <td>1.000000</td>\n",
       "      <td>1.000000</td>\n",
       "      <td>0.000000</td>\n",
       "    </tr>\n",
       "    <tr>\n",
       "      <th>25%</th>\n",
       "      <td>3.430000e+06</td>\n",
       "      <td>3600.000000</td>\n",
       "      <td>2.000000</td>\n",
       "      <td>1.000000</td>\n",
       "      <td>1.000000</td>\n",
       "      <td>0.000000</td>\n",
       "    </tr>\n",
       "    <tr>\n",
       "      <th>50%</th>\n",
       "      <td>4.340000e+06</td>\n",
       "      <td>4600.000000</td>\n",
       "      <td>3.000000</td>\n",
       "      <td>1.000000</td>\n",
       "      <td>2.000000</td>\n",
       "      <td>0.000000</td>\n",
       "    </tr>\n",
       "    <tr>\n",
       "      <th>75%</th>\n",
       "      <td>5.740000e+06</td>\n",
       "      <td>6360.000000</td>\n",
       "      <td>3.000000</td>\n",
       "      <td>2.000000</td>\n",
       "      <td>2.000000</td>\n",
       "      <td>1.000000</td>\n",
       "    </tr>\n",
       "    <tr>\n",
       "      <th>max</th>\n",
       "      <td>1.330000e+07</td>\n",
       "      <td>16200.000000</td>\n",
       "      <td>6.000000</td>\n",
       "      <td>4.000000</td>\n",
       "      <td>4.000000</td>\n",
       "      <td>3.000000</td>\n",
       "    </tr>\n",
       "  </tbody>\n",
       "</table>\n",
       "</div>"
      ],
      "text/plain": [
       "              price          area    bedrooms   bathrooms     stories  \\\n",
       "count  5.450000e+02    545.000000  545.000000  545.000000  545.000000   \n",
       "mean   4.766729e+06   5150.541284    2.965138    1.286239    1.805505   \n",
       "std    1.870440e+06   2170.141023    0.738064    0.502470    0.867492   \n",
       "min    1.750000e+06   1650.000000    1.000000    1.000000    1.000000   \n",
       "25%    3.430000e+06   3600.000000    2.000000    1.000000    1.000000   \n",
       "50%    4.340000e+06   4600.000000    3.000000    1.000000    2.000000   \n",
       "75%    5.740000e+06   6360.000000    3.000000    2.000000    2.000000   \n",
       "max    1.330000e+07  16200.000000    6.000000    4.000000    4.000000   \n",
       "\n",
       "          parking  \n",
       "count  545.000000  \n",
       "mean     0.693578  \n",
       "std      0.861586  \n",
       "min      0.000000  \n",
       "25%      0.000000  \n",
       "50%      0.000000  \n",
       "75%      1.000000  \n",
       "max      3.000000  "
      ]
     },
     "execution_count": 17,
     "metadata": {},
     "output_type": "execute_result"
    }
   ],
   "source": [
    "# cell 3\n",
    "df.describe()"
   ]
  },
  {
   "cell_type": "markdown",
   "metadata": {},
   "source": [
    "Here, we could see the maximum and minimum value of different features are of different range."
   ]
  },
  {
   "cell_type": "markdown",
   "metadata": {},
   "source": [
    "**Check for missing values**"
   ]
  },
  {
   "cell_type": "code",
   "execution_count": 18,
   "metadata": {},
   "outputs": [
    {
     "name": "stdout",
     "output_type": "stream",
     "text": [
      "<class 'pandas.core.frame.DataFrame'>\n",
      "RangeIndex: 545 entries, 0 to 544\n",
      "Data columns (total 13 columns):\n",
      " #   Column            Non-Null Count  Dtype \n",
      "---  ------            --------------  ----- \n",
      " 0   price             545 non-null    int64 \n",
      " 1   area              545 non-null    int64 \n",
      " 2   bedrooms          545 non-null    int64 \n",
      " 3   bathrooms         545 non-null    int64 \n",
      " 4   stories           545 non-null    int64 \n",
      " 5   mainroad          545 non-null    object\n",
      " 6   guestroom         545 non-null    object\n",
      " 7   basement          545 non-null    object\n",
      " 8   hotwaterheating   545 non-null    object\n",
      " 9   airconditioning   545 non-null    object\n",
      " 10  parking           545 non-null    int64 \n",
      " 11  prefarea          545 non-null    object\n",
      " 12  furnishingstatus  545 non-null    object\n",
      "dtypes: int64(6), object(7)\n",
      "memory usage: 55.5+ KB\n"
     ]
    }
   ],
   "source": [
    "# cell 4\n",
    "df.info()"
   ]
  },
  {
   "cell_type": "markdown",
   "metadata": {},
   "source": [
    "Here we could see there are no missing values in all feature columns as 545 out of 545 are non-null."
   ]
  },
  {
   "cell_type": "markdown",
   "metadata": {},
   "source": [
    "**Converting the categorical features into numeric features**"
   ]
  },
  {
   "cell_type": "code",
   "execution_count": 64,
   "metadata": {},
   "outputs": [
    {
     "data": {
      "text/html": [
       "<div>\n",
       "<style scoped>\n",
       "    .dataframe tbody tr th:only-of-type {\n",
       "        vertical-align: middle;\n",
       "    }\n",
       "\n",
       "    .dataframe tbody tr th {\n",
       "        vertical-align: top;\n",
       "    }\n",
       "\n",
       "    .dataframe thead th {\n",
       "        text-align: right;\n",
       "    }\n",
       "</style>\n",
       "<table border=\"1\" class=\"dataframe\">\n",
       "  <thead>\n",
       "    <tr style=\"text-align: right;\">\n",
       "      <th></th>\n",
       "      <th>price</th>\n",
       "      <th>area</th>\n",
       "      <th>bedrooms</th>\n",
       "      <th>bathrooms</th>\n",
       "      <th>stories</th>\n",
       "      <th>parking</th>\n",
       "      <th>mainroad_yes</th>\n",
       "      <th>guestroom_yes</th>\n",
       "      <th>basement_yes</th>\n",
       "      <th>hotwaterheating_yes</th>\n",
       "      <th>airconditioning_yes</th>\n",
       "      <th>prefarea_yes</th>\n",
       "      <th>furnishingstatus_semi-furnished</th>\n",
       "      <th>furnishingstatus_unfurnished</th>\n",
       "    </tr>\n",
       "  </thead>\n",
       "  <tbody>\n",
       "    <tr>\n",
       "      <th>0</th>\n",
       "      <td>13300000</td>\n",
       "      <td>7420</td>\n",
       "      <td>4</td>\n",
       "      <td>2</td>\n",
       "      <td>3</td>\n",
       "      <td>2</td>\n",
       "      <td>True</td>\n",
       "      <td>False</td>\n",
       "      <td>False</td>\n",
       "      <td>False</td>\n",
       "      <td>True</td>\n",
       "      <td>True</td>\n",
       "      <td>False</td>\n",
       "      <td>False</td>\n",
       "    </tr>\n",
       "    <tr>\n",
       "      <th>1</th>\n",
       "      <td>12250000</td>\n",
       "      <td>8960</td>\n",
       "      <td>4</td>\n",
       "      <td>4</td>\n",
       "      <td>4</td>\n",
       "      <td>3</td>\n",
       "      <td>True</td>\n",
       "      <td>False</td>\n",
       "      <td>False</td>\n",
       "      <td>False</td>\n",
       "      <td>True</td>\n",
       "      <td>False</td>\n",
       "      <td>False</td>\n",
       "      <td>False</td>\n",
       "    </tr>\n",
       "    <tr>\n",
       "      <th>2</th>\n",
       "      <td>12250000</td>\n",
       "      <td>9960</td>\n",
       "      <td>3</td>\n",
       "      <td>2</td>\n",
       "      <td>2</td>\n",
       "      <td>2</td>\n",
       "      <td>True</td>\n",
       "      <td>False</td>\n",
       "      <td>True</td>\n",
       "      <td>False</td>\n",
       "      <td>False</td>\n",
       "      <td>True</td>\n",
       "      <td>True</td>\n",
       "      <td>False</td>\n",
       "    </tr>\n",
       "    <tr>\n",
       "      <th>3</th>\n",
       "      <td>12215000</td>\n",
       "      <td>7500</td>\n",
       "      <td>4</td>\n",
       "      <td>2</td>\n",
       "      <td>2</td>\n",
       "      <td>3</td>\n",
       "      <td>True</td>\n",
       "      <td>False</td>\n",
       "      <td>True</td>\n",
       "      <td>False</td>\n",
       "      <td>True</td>\n",
       "      <td>True</td>\n",
       "      <td>False</td>\n",
       "      <td>False</td>\n",
       "    </tr>\n",
       "    <tr>\n",
       "      <th>4</th>\n",
       "      <td>11410000</td>\n",
       "      <td>7420</td>\n",
       "      <td>4</td>\n",
       "      <td>1</td>\n",
       "      <td>2</td>\n",
       "      <td>2</td>\n",
       "      <td>True</td>\n",
       "      <td>True</td>\n",
       "      <td>True</td>\n",
       "      <td>False</td>\n",
       "      <td>True</td>\n",
       "      <td>False</td>\n",
       "      <td>False</td>\n",
       "      <td>False</td>\n",
       "    </tr>\n",
       "  </tbody>\n",
       "</table>\n",
       "</div>"
      ],
      "text/plain": [
       "      price  area  bedrooms  bathrooms  stories  parking  mainroad_yes  \\\n",
       "0  13300000  7420         4          2        3        2          True   \n",
       "1  12250000  8960         4          4        4        3          True   \n",
       "2  12250000  9960         3          2        2        2          True   \n",
       "3  12215000  7500         4          2        2        3          True   \n",
       "4  11410000  7420         4          1        2        2          True   \n",
       "\n",
       "   guestroom_yes  basement_yes  hotwaterheating_yes  airconditioning_yes  \\\n",
       "0          False         False                False                 True   \n",
       "1          False         False                False                 True   \n",
       "2          False          True                False                False   \n",
       "3          False          True                False                 True   \n",
       "4           True          True                False                 True   \n",
       "\n",
       "   prefarea_yes  furnishingstatus_semi-furnished  furnishingstatus_unfurnished  \n",
       "0          True                            False                         False  \n",
       "1         False                            False                         False  \n",
       "2          True                             True                         False  \n",
       "3          True                            False                         False  \n",
       "4         False                            False                         False  "
      ]
     },
     "execution_count": 64,
     "metadata": {},
     "output_type": "execute_result"
    }
   ],
   "source": [
    "# cell 5\n",
    "df = pd.get_dummies(df, drop_first=True)\n",
    "df.head()"
   ]
  },
  {
   "cell_type": "markdown",
   "metadata": {},
   "source": [
    "**Separating the Input features and output target variable**"
   ]
  },
  {
   "cell_type": "code",
   "execution_count": 69,
   "metadata": {},
   "outputs": [],
   "source": [
    "# cell 6\n",
    "# All the columns except 'price' are our input features\n",
    "X = df.drop('price', axis=1).values  # X is our feature matrix and axis=1 means columns\n",
    "\n",
    "# 'price' is our target variable\n",
    "y = df['price'].values  # y is our label/target/ground_truth vector"
   ]
  },
  {
   "cell_type": "code",
   "execution_count": 70,
   "metadata": {},
   "outputs": [
    {
     "name": "stdout",
     "output_type": "stream",
     "text": [
      "Dimension of feature matrix: (545, 13)\n",
      "Dimension of label vector: (545,)\n"
     ]
    }
   ],
   "source": [
    "# cell 7\n",
    "print(f\"Dimension of feature matrix: {X.shape}\")\n",
    "print(f\"Dimension of label vector: {y.shape}\")"
   ]
  },
  {
   "cell_type": "markdown",
   "metadata": {},
   "source": [
    "Here, we could see there are 545 total examples in dataset and we will be using 13 different features.We should reshape the label vector to pervent matrix dimensional confict."
   ]
  },
  {
   "cell_type": "markdown",
   "metadata": {},
   "source": [
    "**Reshaping the label vector**"
   ]
  },
  {
   "cell_type": "code",
   "execution_count": 71,
   "metadata": {},
   "outputs": [
    {
     "name": "stdout",
     "output_type": "stream",
     "text": [
      "Dimension of label vector: (545, 1)\n"
     ]
    }
   ],
   "source": [
    "# cell 8\n",
    "y = y.reshape(-1, 1)  # -1 will tell numpy to infer the number of rows automatically and we have specified column as 1\n",
    "print(f\"Dimension of label vector: {y.shape}\")"
   ]
  },
  {
   "cell_type": "markdown",
   "metadata": {},
   "source": [
    "**Splitting the entire dataset into train, validation and test sets**\n",
    "\n",
    "* We will randomly split our dataset both X and y into train, validation and test sets in the proportion of 60:20:20 respectively.\n",
    "\n",
    "* For this we will use train_test_split() function from sklearn library.\n",
    "\n",
    "* We will achieve this task in two steps:\n",
    "\n",
    "    a. First split the entire dataset into train and validation set in the ratio 60:40.  \n",
    "    \n",
    "    b. Then, split the validation set into validation set and test set in the ratio 50:50"
   ]
  },
  {
   "cell_type": "code",
   "execution_count": 72,
   "metadata": {},
   "outputs": [],
   "source": [
    "# cell 9\n",
    "# a. Splitting the data into train, and validation set\n",
    "X_train, X_val, y_train, y_val = train_test_split(X, y, test_size=0.4, random_state=42)\n",
    "\n",
    "# b. Splitting the validation set into validation and test set\n",
    "X_val, X_test, y_val, y_test = train_test_split(X_val, y_val, test_size=0.5, random_state=42)"
   ]
  },
  {
   "cell_type": "code",
   "execution_count": 73,
   "metadata": {},
   "outputs": [
    {
     "name": "stdout",
     "output_type": "stream",
     "text": [
      "Dimension of training feature matrix: (327, 13)\n",
      "Dimension of training label vector: (327, 1)\n",
      "==================================================\n",
      "Dimension of validation feature matrix: (109, 13)\n",
      "Dimension of validation label vector: (109, 1)\n",
      "==================================================\n",
      "Dimension of testing feature matrix: (109, 13)\n",
      "Dimension of testing label vector: (109, 1)\n"
     ]
    }
   ],
   "source": [
    "# cell 10\n",
    "print(f\"Dimension of training feature matrix: {X_train.shape}\")\n",
    "print(f\"Dimension of training label vector: {y_train.shape}\")\n",
    "print(\"=\" * 50)\n",
    "print(f\"Dimension of validation feature matrix: {X_val.shape}\")\n",
    "print(f\"Dimension of validation label vector: {y_val.shape}\")\n",
    "print(\"=\" * 50)\n",
    "print(f\"Dimension of testing feature matrix: {X_test.shape}\")\n",
    "print(f\"Dimension of testing label vector: {y_test.shape}\")"
   ]
  },
  {
   "cell_type": "markdown",
   "metadata": {},
   "source": [
    "**Feature Scaling**\n",
    "* Can be done in two ways:\n",
    "\n",
    "    1. Feature Normalization:\n",
    "        * Normalization is a scaling technique in which values are shifted and rescaled so that they end up ranging between 0 and 1. \n",
    "        \n",
    "        * It is also known as Min-Max scaling.\n",
    "\n",
    "        $$\n",
    "            X_{\\text{norm}} = \\frac{X - X_{\\text{min}}}{X_{\\text{max}} - X_{\\text{min}}}\n",
    "        \n",
    "        $$\n",
    "    2. Feature Standardization\n",
    "        * Standardization is scaling technique where the values are centered around the mean with a unit standard deviation. \n",
    "        \n",
    "        * This means that the mean of the feature becomes zero, and the resultant distribution has a unit standard deviation.\n",
    "\n",
    "        $$\n",
    "            X_{\\text{std}} = \\frac{X - \\mu}{\\sigma}\n",
    "        $$\n",
    "\n",
    "* For feature scaling we will use **TRAINING SET** to compute X_min, X_max (for normalization) and X_mean and X_std (for standardization).\n",
    "\n",
    "* Then the same X_min, X_max, X_mean or X_std values from training sets are used for scaling features from validation and test sets.\n",
    "\n",
    "* We will use feature standardization in this tutorial."
   ]
  },
  {
   "cell_type": "code",
   "execution_count": 106,
   "metadata": {},
   "outputs": [],
   "source": [
    "# cell 11\n",
    "# Function to standardize training features\n",
    "def training_feature_standardization(X_train):\n",
    "    # Calculate mean and standard deviation from the training set\n",
    "    X_train_mean = X_train.mean(axis=0)  # axis=0 means columnwise operation\n",
    "    X_train_std = X_train.astype(np.float32).std(axis=0)\n",
    "    \n",
    "    # Reshaping the mean and standard deviation\n",
    "    X_train_mean = X_train_mean.reshape(1, -1)\n",
    "    X_train_std = X_train_std.reshape(1, -1)\n",
    "    \n",
    "    # Standardize training set\n",
    "    X_train_scaled = (X_train - X_train_mean) / X_train_std\n",
    "    \n",
    "    return X_train_mean, X_train_std, X_train_scaled"
   ]
  },
  {
   "cell_type": "code",
   "execution_count": 107,
   "metadata": {},
   "outputs": [],
   "source": [
    "# cell 12\n",
    "# Function to standardize the test features\n",
    "# This same function can be used to standardize the validation sets\n",
    "def test_feature_standardization(X_train_mean, X_train_std, X_test):\n",
    "    \n",
    "    X_test_scaled = (X_test - X_train_mean) / X_train_std\n",
    "    \n",
    "    return X_test_scaled"
   ]
  },
  {
   "cell_type": "markdown",
   "metadata": {},
   "source": [
    "**Building Linear Regression Model**"
   ]
  },
  {
   "cell_type": "code",
   "execution_count": 156,
   "metadata": {},
   "outputs": [],
   "source": [
    "# cell 13\n",
    "class LinearRegression:\n",
    "    \n",
    "    def __init__(self, X_train_mean, X_train_std, learning_rate=0.001, n_iters=1000):\n",
    "        self.X_train_mean = X_train_mean\n",
    "        self.X_train_std = X_train_std\n",
    "        self.theta = None\n",
    "        self.n_iters = n_iters\n",
    "        self.learning_rate = learning_rate\n",
    "        \n",
    "        # Containers for losses and theta\n",
    "        self.loss_history = []\n",
    "        self.theta_history = []\n",
    "        \n",
    "        \n",
    "    def compute_MSE_loss(self, y: np.ndarray, y_pred: np.ndarray) -> float:\n",
    "        \"\"\"\n",
    "        Function to compute Mean Squared Error\n",
    "\n",
    "        Args:\n",
    "            y (np.ndarray): Label vector of shape (m, 1)\n",
    "            y_pred (np.ndarray): Predicted label vector of shape (m, 1)\n",
    "\n",
    "        Returns:\n",
    "            float: Loss value\n",
    "        \"\"\"\n",
    "        m = len(y) # m = y.shape[0] i.e. number of samples\n",
    "        loss = np.sum((y_pred - y) ** 2) / (2 * m)\n",
    "        return loss\n",
    "    \n",
    "    def gradient_descent(self, X: np.ndarray, y: np.ndarray, y_pred: np.ndarray, theta: np.ndarray) -> np.ndarray:\n",
    "        \"\"\"\n",
    "        Function to calculate gradients and update parameters\n",
    "\n",
    "        Args:\n",
    "            X (np.ndarray): Input feature matrix of shape (m, n+1)\n",
    "            y (np.ndarray): Label vector of shape (m, 1)\n",
    "            y_pred (np.ndarray): Predicted label vector of shape (m, 1)\n",
    "            theta (np.ndarray): linear regression model parameter vector of shape (n+1, 1)\n",
    "\n",
    "        Returns:\n",
    "            np.ndarray: Updated parameter vector: theta of shape (n+1, 1)\n",
    "        \"\"\"\n",
    "        m = len(y)\n",
    "        \n",
    "        # Compute gradients\n",
    "        # Shape of gradients is (n+1, 1)\n",
    "        gradients = np.dot(X.T, (y_pred - y)) / m\n",
    "        \n",
    "        # Update parameters\n",
    "        theta = theta - self.learning_rate * gradients\n",
    "        \n",
    "        return theta\n",
    "    \n",
    "    def fit(self, X: np.ndarray, y: np.ndarray) -> Tuple[List, List]:\n",
    "        \"\"\"\n",
    "        Function to fit linear regression model\n",
    "\n",
    "        Args:\n",
    "            X (np.ndarray): Scaled input feature matrix of shape (m, n+1)\n",
    "            y (np.ndarray): Label vector of shape (m, 1)\n",
    "\n",
    "        Returns:\n",
    "            Tuple[List, List]: Returns loss history and theta history\n",
    "        \"\"\"\n",
    "        # Add new dimension to X\n",
    "        new_dimension = np.ones((X.shape[0], 1))\n",
    "        X = np.hstack((new_dimension, X))\n",
    "        \n",
    "        # Initialize theta\n",
    "        self.theta = np.zeros((X.shape[1], 1))\n",
    "        \n",
    "        # Training loop\n",
    "        for i in range(self.n_iters):\n",
    "            self.theta_history.append(self.theta)\n",
    "            y_pred = np.dot(X, self.theta)\n",
    "            \n",
    "            # Compute loss\n",
    "            loss = self.compute_MSE_loss(y, y_pred)\n",
    "            self.loss_history.append(loss)\n",
    "            \n",
    "            # Perform gradient descent\n",
    "            self.theta = self.gradient_descent(X, y, y_pred, self.theta)\n",
    "            \n",
    "            # Print loss every 100 iterations\n",
    "            if i % 100 == 0:\n",
    "                print(f\"Iteration {i}: MSE Loss = {loss}\")\n",
    "                print(\"=\" * 50)\n",
    "                \n",
    "        return self.loss_history, self.theta_history\n",
    "    \n",
    "    def evaluate(self, X: np.ndarray, y: np.ndarray) -> Tuple[float, float]:\n",
    "        \"\"\"Function to evaluate trained model on test and validation set\n",
    "\n",
    "        Args:\n",
    "            X (np.ndarray): Scaled input feature matrix from test or validation set of shape (test/validation_samples, n+1)\n",
    "            y (np.ndarray): Label vector from test or validation set of shape (test/validation_samples, 1)\n",
    "\n",
    "        Returns:\n",
    "            Tuple[float, float]: Returns MSE loss and Coefficient of Determination (R^2)\n",
    "        \"\"\"\n",
    "        # Add new dimension to X\n",
    "        new_dimension = np.ones((X.shape[0], 1))\n",
    "        X = np.hstack((new_dimension, X))\n",
    "        y_pred = np.dot(X, self.theta)     \n",
    "        mse_loss = self.compute_MSE_loss(y, y_pred)\n",
    "        r2 = 1 - (np.sum((y - y_pred) ** 2) / np.sum((y - y.mean()) ** 2))  # coefficient of determination\n",
    "        return mse_loss, r2\n",
    "           \n",
    "    def predict(self, X):\n",
    "        \"\"\"Function to predict using trained model on data that are not in the dataset\n",
    "\n",
    "        Args:\n",
    "            X (np.ndarray): Scaled input feature matrix of shape (m, n+1)\n",
    "\n",
    "        Returns:\n",
    "            np.ndarray: Returns the predicted price of shape (m, 1)\n",
    "        \"\"\"\n",
    "        # Add new dimension to X\n",
    "        new_dimension = np.ones((X.shape[0], 1))\n",
    "        X = np.hstack((new_dimension, X))\n",
    "        y_pred = np.dot(X, self.theta)\n",
    "        return y_pred\n",
    "    "
   ]
  },
  {
   "cell_type": "markdown",
   "metadata": {},
   "source": [
    "**Training Model**"
   ]
  },
  {
   "cell_type": "code",
   "execution_count": 157,
   "metadata": {},
   "outputs": [
    {
     "name": "stdout",
     "output_type": "stream",
     "text": [
      "Iteration 0: MSE Loss = 11898223945387.768\n",
      "==================================================\n",
      "Iteration 100: MSE Loss = 1889850670758.359\n",
      "==================================================\n",
      "Iteration 200: MSE Loss = 646809723532.819\n",
      "==================================================\n",
      "Iteration 300: MSE Loss = 479356963320.85864\n",
      "==================================================\n",
      "Iteration 400: MSE Loss = 456261378050.4726\n",
      "==================================================\n",
      "Iteration 500: MSE Loss = 452895898484.9235\n",
      "==================================================\n",
      "Iteration 600: MSE Loss = 452329929716.92\n",
      "==================================================\n",
      "Iteration 700: MSE Loss = 452203573461.2716\n",
      "==================================================\n",
      "Iteration 800: MSE Loss = 452163907806.7867\n",
      "==================================================\n",
      "Iteration 900: MSE Loss = 452148193954.3902\n",
      "==================================================\n",
      "Training MSE Loss after completion of training: 452141326600.376\n"
     ]
    }
   ],
   "source": [
    "# cell 14\n",
    "# Prepare training, validation and test sets by standardizing features\n",
    "X_train_mean, X_train_std, X_train_scaled = training_feature_standardization(X_train)\n",
    "\n",
    "X_val_scaled = test_feature_standardization(X_train_mean, X_train_std, X_val)\n",
    "\n",
    "X_test_scaled = test_feature_standardization(X_train_mean, X_train_std, X_test)\n",
    "\n",
    "# Instantiate LinearRegression Model\n",
    "lr_model = LinearRegression(X_train_mean=X_train_mean, X_train_std=X_train_std, learning_rate=0.01, n_iters=1000)\n",
    "\n",
    "# Fit the model with training data\n",
    "loss_history, theta_history = lr_model.fit(X_train_scaled, y_train)\n",
    "\n",
    "print(f\"Training MSE Loss after completion of training: {loss_history[-1]}\")"
   ]
  },
  {
   "cell_type": "markdown",
   "metadata": {},
   "source": [
    "**Visualize the Learning Curve**"
   ]
  },
  {
   "cell_type": "code",
   "execution_count": 158,
   "metadata": {},
   "outputs": [
    {
     "data": {
      "image/png": "[encoded data removed]",
      "text/plain": [
       "<Figure size 800x400 with 1 Axes>"
      ]
     },
     "metadata": {},
     "output_type": "display_data"
    }
   ],
   "source": [
    "# cell 15\n",
    "plt.figure(figsize=(8, 4))\n",
    "sns.lineplot(loss_history)\n",
    "plt.title(\"Training Loss History\")\n",
    "plt.xlabel(\"#Iterations\")\n",
    "plt.ylabel(\"MSE Loss\")\n",
    "plt.grid()\n",
    "plt.show()"
   ]
  },
  {
   "cell_type": "markdown",
   "metadata": {},
   "source": [
    "**Model Evaluation on Validation Set**"
   ]
  },
  {
   "cell_type": "code",
   "execution_count": 159,
   "metadata": {},
   "outputs": [
    {
     "name": "stdout",
     "output_type": "stream",
     "text": [
      "Validation Loss: 749652843046.9702\n",
      "Validation R^2: 0.6737946158989427\n"
     ]
    }
   ],
   "source": [
    "# cell 16\n",
    "# Evaluate the model on validation set\n",
    "val_loss, val_r2 = lr_model.evaluate(X_val_scaled, y_val)\n",
    "print(f\"Validation Loss: {val_loss}\")\n",
    "print(f\"Validation R^2: {val_r2}\")"
   ]
  },
  {
   "cell_type": "markdown",
   "metadata": {},
   "source": [
    "Here we can see that the Validation Loss is higher than Training Loss. R^2 is greater than 0.5 i.e. 0.67 which is just fine but could be improved."
   ]
  },
  {
   "cell_type": "markdown",
   "metadata": {},
   "source": [
    "**Model Selection or Hyperparameter Tuning**\n",
    "* We will tune learning rate in this tutorial using grid search i.e. we will set predefined set of values for learning rate.\n",
    "\n",
    "* For every learning rate, we will evaluate the model using validation set.\n",
    "\n",
    "* We will set the number of iterations to 200(can be changed)."
   ]
  },
  {
   "cell_type": "code",
   "execution_count": 160,
   "metadata": {},
   "outputs": [
    {
     "name": "stdout",
     "output_type": "stream",
     "text": [
      "RUNNING EXPERIMENT 1 WITH LEARNING RATE: 0.1\n",
      "Iteration 0: MSE Loss = 11898223945387.768\n",
      "==================================================\n",
      "Iteration 100: MSE Loss = 452140524849.5005\n",
      "==================================================\n",
      "RUNNING EXPERIMENT 2 WITH LEARNING RATE: 0.01\n",
      "Iteration 0: MSE Loss = 11898223945387.768\n",
      "==================================================\n",
      "Iteration 100: MSE Loss = 1889850670758.359\n",
      "==================================================\n",
      "RUNNING EXPERIMENT 3 WITH LEARNING RATE: 0.001\n",
      "Iteration 0: MSE Loss = 11898223945387.768\n",
      "==================================================\n",
      "Iteration 100: MSE Loss = 9660370619205.281\n",
      "==================================================\n",
      "RUNNING EXPERIMENT 4 WITH LEARNING RATE: 0.0001\n",
      "Iteration 0: MSE Loss = 11898223945387.768\n",
      "==================================================\n",
      "Iteration 100: MSE Loss = 11649559715022.69\n",
      "==================================================\n"
     ]
    }
   ],
   "source": [
    "# cell 17\n",
    "# Prepare training, validation and test sets by standardizing features\n",
    "X_train_mean, X_train_std, X_train_scaled = training_feature_standardization(X_train)\n",
    "\n",
    "X_val_scaled = test_feature_standardization(X_train_mean, X_train_std, X_val)\n",
    "\n",
    "X_test_scaled = test_feature_standardization(X_train_mean, X_train_std, X_test)\n",
    "\n",
    "learning_rate_set = [0.1, 0.01, 0.001, 0.0001]\n",
    "val_loss_set = []\n",
    "val_r2_score_set = []\n",
    "model_list = []\n",
    "\n",
    "for exp_num, lr in enumerate(learning_rate_set):\n",
    "    print(f\"RUNNING EXPERIMENT {exp_num+1} WITH LEARNING RATE: {lr}\")\n",
    "    my_lr_model = LinearRegression(X_train_mean=X_train_mean, X_train_std=X_train_std, learning_rate=lr, n_iters=200)\n",
    "    _, _ = my_lr_model.fit(X_train_scaled, y_train)\n",
    "    loss, r2 = my_lr_model.evaluate(X_val_scaled, y_val)\n",
    "    val_loss_set.append(loss)\n",
    "    val_r2_score_set.append(r2)\n",
    "    model_list.append(my_lr_model)\n"
   ]
  },
  {
   "cell_type": "markdown",
   "metadata": {},
   "source": [
    "**Study Experiment Results**"
   ]
  },
  {
   "cell_type": "code",
   "execution_count": 161,
   "metadata": {},
   "outputs": [
    {
     "name": "stdout",
     "output_type": "stream",
     "text": [
      "Validation loss for different experiments with lr=[0.1, 0.01, 0.001, 0.0001]: [749922359341.2747, 1045256820019.552, 10234978132378.688, 14977840435704.896]\n",
      "Validation R^2 for different experiments with lr=[0.1, 0.01, 0.001, 0.0001]: [0.6736773380587792, 0.5451649311795328, -3.453668126393434, -5.517486377394201]\n"
     ]
    }
   ],
   "source": [
    "# cell 18\n",
    "print(f\"Validation loss for different experiments with lr={learning_rate_set}: {val_loss_set}\")\n",
    "print(f\"Validation R^2 for different experiments with lr={learning_rate_set}: {val_r2_score_set}\")"
   ]
  },
  {
   "cell_type": "markdown",
   "metadata": {},
   "source": [
    "The negative value for R^2 indicates that the models does not fit our data i.e. the model fails to understand the data pattern. If you find harder to compare loss due to its high value we could normalize that as follows."
   ]
  },
  {
   "cell_type": "code",
   "execution_count": 162,
   "metadata": {},
   "outputs": [
    {
     "name": "stdout",
     "output_type": "stream",
     "text": [
      "Validation loss for different experiments with lr=[0.1, 0.01, 0.001, 0.0001]: [0.05006879 0.06978688 0.68334138 1.        ]\n"
     ]
    }
   ],
   "source": [
    "# cell 19\n",
    "print(f\"Validation loss for different experiments with lr={learning_rate_set}: {np.array(val_loss_set)/max(val_loss_set)}\")"
   ]
  },
  {
   "cell_type": "markdown",
   "metadata": {},
   "source": [
    "Among those four models that we get from four different experiments, the model that is trained with lr=0.1 for 200 epochs yields higher R^2. So, we will select that model."
   ]
  },
  {
   "cell_type": "markdown",
   "metadata": {},
   "source": [
    "**Testing Best Model with Test Sets**"
   ]
  },
  {
   "cell_type": "code",
   "execution_count": 163,
   "metadata": {},
   "outputs": [
    {
     "name": "stdout",
     "output_type": "stream",
     "text": [
      "Test MSE Loss: 756303346851.1155\n",
      "Test R^2 score: 0.6742297858400923\n"
     ]
    }
   ],
   "source": [
    "# cell 20\n",
    "best_model = model_list[np.argmax(val_r2_score_set)]  # np.argmax will return the index of max value\n",
    "\n",
    "loss, r2 = best_model.evaluate(X_test_scaled, y_test)\n",
    "\n",
    "print(f\"Test MSE Loss: {loss}\")\n",
    "print(f\"Test R^2 score: {r2}\")"
   ]
  },
  {
   "cell_type": "markdown",
   "metadata": {},
   "source": [
    "**Inferencing model with our own data**"
   ]
  },
  {
   "cell_type": "code",
   "execution_count": 164,
   "metadata": {},
   "outputs": [
    {
     "name": "stdout",
     "output_type": "stream",
     "text": [
      "Index(['area', 'bedrooms', 'bathrooms', 'stories', 'parking', 'mainroad_yes',\n",
      "       'guestroom_yes', 'basement_yes', 'hotwaterheating_yes',\n",
      "       'airconditioning_yes', 'prefarea_yes',\n",
      "       'furnishingstatus_semi-furnished', 'furnishingstatus_unfurnished'],\n",
      "      dtype='object')\n"
     ]
    }
   ],
   "source": [
    "# cell 21\n",
    "features = df.drop(\"price\", axis=1).columns\n",
    "print(features)"
   ]
  },
  {
   "cell_type": "markdown",
   "metadata": {},
   "source": [
    "We have to give all these features as input to the model."
   ]
  },
  {
   "cell_type": "code",
   "execution_count": 165,
   "metadata": {},
   "outputs": [],
   "source": [
    "# cell 22\n",
    "data = np.array((\n",
    "    100, # area\n",
    "    2, # no. of bedrooms\n",
    "    1,  # no. of bathrooms\n",
    "    1,  # no. of stories\n",
    "    1,  # parking\n",
    "    1,  # mainroad_yes\n",
    "    1,  # guestroom_yes\n",
    "    0,  # basement_yes\n",
    "    1,  # hotwaterheating_yes\n",
    "    0,  # airconditioning_yes\n",
    "    0,  # prefarea_yes\n",
    "    1,  # furnishingstatus_semifurnished\n",
    "    0   # furnishingstatus_unfurnished\n",
    "))"
   ]
  },
  {
   "cell_type": "code",
   "execution_count": 166,
   "metadata": {},
   "outputs": [
    {
     "name": "stdout",
     "output_type": "stream",
     "text": [
      "Predicted price: [[3529794.9892266775]]\n"
     ]
    }
   ],
   "source": [
    "# cell 23\n",
    "data = data.reshape(1, -1)\n",
    "data_scaled = test_feature_standardization(X_train_mean, X_train_std, data)\n",
    "\n",
    "prediction = best_model.predict(data_scaled)\n",
    "print(f\"Predicted price: {prediction}\")"
   ]
  },
  {
   "cell_type": "markdown",
   "metadata": {},
   "source": [
    "### **Optional Assignments**\n",
    "\n",
    "* As we have noticed, our best model has R^2 score of around 0.67 which is not a very good score. Try to improve our model score.\n",
    "\n",
    "* You could try EDA and do some feature engineering.\n",
    "\n",
    "* You could add some higher order features or feature interaction."
   ]
  },
  {
   "cell_type": "code",
   "execution_count": null,
   "metadata": {},
   "outputs": [],
   "source": []
  }
 ],
 "metadata": {
  "kernelspec": {
   "display_name": "soccer-analytics",
   "language": "python",
   "name": "python3"
  },
  "language_info": {
   "codemirror_mode": {
    "name": "ipython",
    "version": 3
   },
   "file_extension": ".py",
   "mimetype": "text/x-python",
   "name": "python",
   "nbconvert_exporter": "python",
   "pygments_lexer": "ipython3",
   "version": "3.9.18"
  }
 },
 "nbformat": 4,
 "nbformat_minor": 2
}
